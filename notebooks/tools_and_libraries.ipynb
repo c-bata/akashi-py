{
 "metadata": {
  "name": "",
  "signature": "sha256:f319962c923ed5225e248526f13cda12b8546ee1b45b0e109423dce0f7ff197f"
 },
 "nbformat": 3,
 "nbformat_minor": 0,
 "worksheets": [
  {
   "cells": [
    {
     "cell_type": "markdown",
     "metadata": {},
     "source": [
      "# \u4fbf\u5229\u306a\u30c4\u30fc\u30eb\u3084\u30e9\u30a4\u30d6\u30e9\u30ea\u3092\u4f7f\u3044\u3053\u306a\u3059"
     ]
    },
    {
     "cell_type": "markdown",
     "metadata": {},
     "source": [
      "## PyCharm\n",
      "\n",
      "jetbrains\u793e\u306ePython\u7528IDE\u3002\n",
      "\u5b66\u751f\u306f1\u5e74\u9593\u3001\u7121\u6599\u3067\u9ad8\u6a5f\u80fd\u306apro\u7248\u306e\u5229\u7528\u304c\u53ef\u80fd\u3002\n",
      "\n",
      "* \u9759\u7684\u30b3\u30fc\u30c9\u89e3\u6790\n",
      "* \u9ad8\u6a5f\u80fd\u306a\u30c7\u30d0\u30c3\u30ac\n",
      "* virtualenv\u5b9f\u884c\u74b0\u5883\u306e\u4f5c\u6210\n",
      "* \u30b3\u30fc\u30c9\u88dc\u5b8c\n",
      "* Git\n",
      "\n",
      "\u3053\u308c\u3089\u306e\u5f37\u529b\u306a\u6a5f\u80fd\u304c\u30ab\u30b9\u30bf\u30de\u30a4\u30ba\u306a\u3057\u3067\u4f7f\u3048\u308b"
     ]
    },
    {
     "cell_type": "markdown",
     "metadata": {},
     "source": [
      "### \u30a4\u30f3\u30b9\u30c8\u30fc\u30eb(Windows)\n",
      "\n",
      "* jetbrains\u306e\u30b5\u30a4\u30c8\u304b\u3089PyCharm\u3092\u30a4\u30f3\u30b9\u30c8\u30fc\u30eb\n",
      "* Create Project\u3067Interpreter\u304c\u9078\u3079\u308b\u304b\u8abf\u3079\u308b\n",
      "* Python3\u304c\u7121\u3051\u308c\u3070python.org\u304b\u3089\u30c0\u30a6\u30f3\u30ed\u30fc\u30c9\n",
      "\n",
      "### \u30a4\u30f3\u30b9\u30c8\u30fc\u30eb(Mac)\n",
      "\n",
      "* windows\u3068\u540c\u69d8\u306bpycharm\u30a4\u30f3\u30b9\u30c8\u30fc\u30eb\n",
      "* Python3\u304c\u7121\u3051\u308c\u3070python.org \u3082\u3057\u304f\u306f homebrew\u304b\u3089\u30a4\u30f3\u30b9\u30c8\u30fc\u30eb"
     ]
    },
    {
     "cell_type": "markdown",
     "metadata": {},
     "source": [
      "### PyCharm\u3067virtualenv\u3092\u4f5c\u6210\n",
      "\n",
      "\u3084\u308a\u306a\u304c\u3089\u30e1\u30e2"
     ]
    },
    {
     "cell_type": "markdown",
     "metadata": {},
     "source": [
      "### PyCharm\u304b\u3089Git\u3092\u4f7f\u3046\n",
      "\n",
      "\u3084\u308a\u306a\u304c\u3089\u30e1\u30e2"
     ]
    },
    {
     "cell_type": "markdown",
     "metadata": {},
     "source": [
      "## \u30b5\u30fc\u30c9\u30d1\u30fc\u30c6\u30a3\u306e\u30e9\u30a4\u30d6\u30e9\u30ea\u3092\u5229\u7528\u3059\u308b\n",
      "\n",
      "pip\u3068\u3044\u3046\u30d1\u30c3\u30b1\u30fc\u30b8\u7ba1\u7406\u30c4\u30fc\u30eb\u3092\u4f7f\u7528"
     ]
    },
    {
     "cell_type": "markdown",
     "metadata": {},
     "source": [
      "### \u4f7f\u3044\u65b9\n",
      "\n",
      "#### \u30a4\u30f3\u30b9\u30c8\u30fc\u30eb\u3001\u30a2\u30f3\u30a4\u30f3\u30b9\u30c8\u30fc\u30eb\n",
      "\n",
      "```\n",
      "$ pip install \u30d1\u30c3\u30b1\u30fc\u30b8\u540d\n",
      "$ pip uninstall \u30d1\u30c3\u30b1\u30fc\u30b8\u540d\n",
      "```\n",
      "\n",
      "#### \u30d1\u30c3\u30b1\u30fc\u30b8\u306e\u4e00\u89a7\u3092\u66f8\u304d\u51fa\u3057\u3001\u30d1\u30c3\u30b1\u30fc\u30b8\u306e\u4e00\u89a7\u304b\u3089\u30a4\u30f3\u30b9\u30c8\u30fc\u30eb\n",
      "\n",
      "```\n",
      "$ pip freeze > requirements.txt\n",
      "$ pip install -r requirements.txt\n",
      "```"
     ]
    },
    {
     "cell_type": "markdown",
     "metadata": {},
     "source": [
      "### Requests\u3092\u4f7f\u3063\u3066\u307f\u308b\n",
      "\n",
      "\u30b5\u30fc\u30c9\u30d1\u30fc\u30c6\u30a3\u88fdHTTP\u30af\u30e9\u30a4\u30a2\u30f3\u30c8\u3002urllib2\u3088\u308a\u7c21\u5358\u3002\n",
      "\n",
      "```\n",
      "$ pip install requests\n",
      "```"
     ]
    },
    {
     "cell_type": "code",
     "collapsed": false,
     "input": [
      "import requests\n",
      "\n",
      "r = requests.get('http://connpass.com/api/v1/event/?keyword=python')\n",
      "print(r.status_code, r.headers['content-type'])\n",
      "\n",
      "for event in r.json()['events'][:10]:\n",
      "    print(event['title'], event['started_at'])"
     ],
     "language": "python",
     "metadata": {},
     "outputs": []
    },
    {
     "cell_type": "markdown",
     "metadata": {},
     "source": [
      "# \u30da\u30a2\u30d7\u30ed\n",
      "\n",
      "* \u30c9\u30e9\u30a4\u30d0\u30fc: \u30ad\u30fc\u30dc\u30fc\u30c9\u3092\u64cd\u4f5c\u3057\u3066\u30b3\u30fc\u30c9\u3092\u66f8\u304f\u4eba\n",
      "* \u30ca\u30d3\u30b2\u30fc\u30bf\u30fc: \u4ed5\u69d8\u3092\u5143\u306b\u30c9\u30e9\u30a4\u30d0\u30fc\u306b\u6307\u793a\u3002\u30c9\u30e9\u30a4\u30d0\u30fc\u304c\u9593\u9055\u3048\u3070\u79c1\u7684\n",
      "\n",
      "\u9069\u5b9c\u4ea4\u66ff\u3057\u306a\u304c\u3089\u3059\u3059\u3081\u3066\u3044\u304f\u3002"
     ]
    },
    {
     "cell_type": "markdown",
     "metadata": {},
     "source": [
      "### FizzBuzz\n",
      "\n",
      "1. for\u3067100\u56de\u30eb\u30fc\u30d7\n",
      "2. 3\u306e\u500d\u6570\u306fFizz, 5\u306f..., 15...\n",
      "3. if\u6587\u3092\u95a2\u6570\u3067\u66f8\u304d\u3060\u3059\n",
      "4. \u30d5\u30a1\u30a4\u30eb\u3092\u5206\u3051\u3066import\u3059\u308b"
     ]
    },
    {
     "cell_type": "markdown",
     "metadata": {},
     "source": [
      "### \u52c9\u5f37\u4f1a\u30ab\u30ec\u30f3\u30c0\u30fc\n",
      "\n",
      "1. pip\u3067requests\u3092\u30a4\u30f3\u30b9\u30c8\u30fc\u30eb\n",
      "2. import\n",
      "3. get\n",
      "4. dict\u3068list\u306e\u8aac\u660e(list\u306f\u6570\u5b57\u3067\u30a2\u30af\u30bb\u30b9\u3001dict\u306f\u9023\u60f3\u914d\u5217\u3067\u6587\u5b57\u5217\u3067\u30a2\u30af\u30bb\u30b9\u3002\u9806\u756a\u3092\u899a\u3048\u306a\u304f\u3066\u3082\u6587\u5b57\u5217\u3067\u30a2\u30af\u30bb\u30b9\u3067\u304d\u308b)\n",
      "5. \u753b\u9762\u306b\u8868\u793a\n",
      "6. keyword\u3092input()\u3067\u6307\u5b9a\u3067\u304d\u308b\u3088\u3046\u306b\u3059\u308b\n",
      "7. \u5b9f\u884c\u7d50\u679c\u3092\u30d5\u30a1\u30a4\u30eb\u306b\u4fdd\u5b58\u3067\u304d\u308b\u3088\u3046\u306b\u3059\u308b"
     ]
    },
    {
     "cell_type": "markdown",
     "metadata": {},
     "source": [
      "### \u6642\u9593\u304c\u4f59\u308c\u3070\n",
      "\n",
      "* \u540c\u3058\u3088\u3046\u306b\u5929\u6c17\u306eAPI\u30b0\u30b0\u3063\u3066\u53e9\u3044\u3066\u3082\u3089\u3046\u3002\n",
      "    * \u305d\u3046\u3044\u3046\u9762\u3067requests\u306f\u9762\u767d\u304f\u3066\u3044\u3044"
     ]
    },
    {
     "cell_type": "code",
     "collapsed": false,
     "input": [],
     "language": "python",
     "metadata": {},
     "outputs": []
    }
   ],
   "metadata": {}
  }
 ]
}
