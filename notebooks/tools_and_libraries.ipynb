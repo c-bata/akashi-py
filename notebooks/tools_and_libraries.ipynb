{
 "metadata": {
  "name": "",
  "signature": "sha256:949b9d5e9a7a1da52b5d8932709d3b1a74020bae66303fa964685f50152af837"
 },
 "nbformat": 3,
 "nbformat_minor": 0,
 "worksheets": [
  {
   "cells": [
    {
     "cell_type": "markdown",
     "metadata": {},
     "source": [
      "# \u4fbf\u5229\u306a\u30c4\u30fc\u30eb\u3084\u30e9\u30a4\u30d6\u30e9\u30ea\u3092\u4f7f\u3044\u3053\u306a\u3059"
     ]
    },
    {
     "cell_type": "markdown",
     "metadata": {},
     "source": [
      "## PyCharm\n",
      "\n",
      "jetbrains\u793e\u306ePython\u7528IDE\u3002\n",
      "\u5b66\u751f\u306f1\u5e74\u9593\u3001\u7121\u6599\u3067\u9ad8\u6a5f\u80fd\u306apro\u7248\u306e\u5229\u7528\u304c\u53ef\u80fd\u3002\n",
      "\n",
      "* \u9759\u7684\u30b3\u30fc\u30c9\u89e3\u6790\n",
      "* \u9ad8\u6a5f\u80fd\u306a\u30c7\u30d0\u30c3\u30ac\n",
      "* virtualenv\u5b9f\u884c\u74b0\u5883\u306e\u4f5c\u6210\n",
      "* \u30b3\u30fc\u30c9\u88dc\u5b8c\n",
      "* Git\n",
      "\n",
      "\u3053\u308c\u3089\u306e\u5f37\u529b\u306a\u6a5f\u80fd\u304c\u30ab\u30b9\u30bf\u30de\u30a4\u30ba\u306a\u3057\u3067\u4f7f\u3048\u308b"
     ]
    },
    {
     "cell_type": "markdown",
     "metadata": {},
     "source": [
      "### \u30a4\u30f3\u30b9\u30c8\u30fc\u30eb(Windows)\n",
      "\n",
      "* jetbrains\u306e\u30b5\u30a4\u30c8\u304b\u3089PyCharm\u3092\u30a4\u30f3\u30b9\u30c8\u30fc\u30eb\n",
      "* Create Project\u3067Interpreter\u304c\u9078\u3079\u308b\u304b\u8abf\u3079\u308b\n",
      "* Python3\u304c\u7121\u3051\u308c\u3070python.org\u304b\u3089\u30c0\u30a6\u30f3\u30ed\u30fc\u30c9\n",
      "\n",
      "### \u30a4\u30f3\u30b9\u30c8\u30fc\u30eb(Mac)\n",
      "\n",
      "* windows\u3068\u540c\u69d8\u306bpycharm\u30a4\u30f3\u30b9\u30c8\u30fc\u30eb\n",
      "* Python3\u304c\u7121\u3051\u308c\u3070python.org \u3082\u3057\u304f\u306f homebrew\u304b\u3089\u30a4\u30f3\u30b9\u30c8\u30fc\u30eb"
     ]
    },
    {
     "cell_type": "markdown",
     "metadata": {},
     "source": [
      "### PyCharm\u3067virtualenv\u3092\u4f5c\u6210\n",
      "\n",
      "\u3084\u308a\u306a\u304c\u3089\u30e1\u30e2"
     ]
    },
    {
     "cell_type": "markdown",
     "metadata": {},
     "source": [
      "### PyCharm\u304b\u3089Git\u3092\u4f7f\u3046\n",
      "\n",
      "\u3084\u308a\u306a\u304c\u3089\u30e1\u30e2"
     ]
    },
    {
     "cell_type": "markdown",
     "metadata": {},
     "source": [
      "## \u30b5\u30fc\u30c9\u30d1\u30fc\u30c6\u30a3\u306e\u30e9\u30a4\u30d6\u30e9\u30ea\u3092\u5229\u7528\u3059\u308b\n",
      "\n",
      "pip\u3068\u3044\u3046\u30d1\u30c3\u30b1\u30fc\u30b8\u7ba1\u7406\u30c4\u30fc\u30eb\u3092\u4f7f\u7528"
     ]
    },
    {
     "cell_type": "markdown",
     "metadata": {},
     "source": [
      "### \u4f7f\u3044\u65b9\n",
      "\n",
      "#### \u30a4\u30f3\u30b9\u30c8\u30fc\u30eb\u3001\u30a2\u30f3\u30a4\u30f3\u30b9\u30c8\u30fc\u30eb\n",
      "\n",
      "```\n",
      "$ pip install \u30d1\u30c3\u30b1\u30fc\u30b8\u540d\n",
      "$ pip uninstall \u30d1\u30c3\u30b1\u30fc\u30b8\u540d\n",
      "```\n",
      "\n",
      "#### \u30d1\u30c3\u30b1\u30fc\u30b8\u306e\u4e00\u89a7\u3092\u66f8\u304d\u51fa\u3057\u3001\u30d1\u30c3\u30b1\u30fc\u30b8\u306e\u4e00\u89a7\u304b\u3089\u30a4\u30f3\u30b9\u30c8\u30fc\u30eb\n",
      "\n",
      "```\n",
      "$ pip freeze > requirements.txt\n",
      "$ pip install -r requirements.txt\n",
      "```"
     ]
    },
    {
     "cell_type": "markdown",
     "metadata": {},
     "source": [
      "### Requests\u3092\u4f7f\u3063\u3066\u307f\u308b\n",
      "\n",
      "\u30b5\u30fc\u30c9\u30d1\u30fc\u30c6\u30a3\u88fdHTTP\u30af\u30e9\u30a4\u30a2\u30f3\u30c8\u3002urllib2\u3088\u308a\u7c21\u5358\u3002\n",
      "\n",
      "```\n",
      "$ pip install requests\n",
      "```\n",
      "\n",
      "#### \u30b3\u30fc\u30c9\u4f8b\n",
      "\n",
      "```\n",
      "import requests\n",
      "\n",
      "r = requests.get('http://connpass.com/api/v1/event/?keyword=python')\n",
      "print(r.status_code, r.headers['content-type'])\n",
      "\n",
      "for event in r.json()['events'][:10]:\n",
      "    print(event['title'], event['started_at'])\n",
      "```"
     ]
    },
    {
     "cell_type": "code",
     "collapsed": false,
     "input": [],
     "language": "python",
     "metadata": {},
     "outputs": []
    }
   ],
   "metadata": {}
  }
 ]
}
