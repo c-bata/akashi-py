{
 "metadata": {
  "celltoolbar": "Slideshow",
  "name": "",
  "signature": "sha256:ea1a214345d7dc07018c23ee9d099be0cd13f8ac2d184c0602b70f63fb849c33"
 },
 "nbformat": 3,
 "nbformat_minor": 0,
 "worksheets": [
  {
   "cells": [
    {
     "cell_type": "markdown",
     "metadata": {
      "slideshow": {
       "slide_type": "slide"
      }
     },
     "source": [
      "# Python3 \u57fa\u790e\u6587\u6cd5\u30c1\u30a7\u30c3\u30af\n",
      "\n",
      "akashi.py \u7b2c\u4e00\u56de(2015/06/14) \u8cc7\u6599\u3002\u30cf\u30de\u308b\u3068\u3053\u308d\u3082\u5c11\u306a\u3044\u306e\u3067Python3\u306b\u7d5e\u3063\u3066\u8aac\u660e"
     ]
    },
    {
     "cell_type": "markdown",
     "metadata": {
      "slideshow": {
       "slide_type": "slide"
      }
     },
     "source": [
      "## Hello World\n",
      "\n",
      "python\u306b\u306f\u5bfe\u8a71\u74b0\u5883\u304c\u7528\u610f\u3055\u308c\u3066\u3044\u308b\u306e\u3067\u3001\u308f\u3056\u308f\u3056\u30d5\u30a1\u30a4\u30eb\u3092\u4f5c\u3089\u306a\u304f\u3066\u3082\u7c21\u5358\u306b\u52d5\u304b\u305b\u308b\u3002"
     ]
    },
    {
     "cell_type": "code",
     "collapsed": false,
     "input": [
      "print('Hello World')"
     ],
     "language": "python",
     "metadata": {
      "slideshow": {
       "slide_type": "fragment"
      }
     },
     "outputs": [
      {
       "output_type": "stream",
       "stream": "stdout",
       "text": [
        "Hello World\n"
       ]
      }
     ],
     "prompt_number": 1
    },
    {
     "cell_type": "markdown",
     "metadata": {
      "slideshow": {
       "slide_type": "slide"
      }
     },
     "source": [
      "## \u5909\u6570"
     ]
    },
    {
     "cell_type": "markdown",
     "metadata": {
      "slideshow": {
       "slide_type": "subslide"
      }
     },
     "source": [
      "### \u578b\n",
      "\u52d5\u7684\u578b\u4ed8\u3051\u3002C\u8a00\u8a9e\u306e\u3088\u3046\u306bint\u7b49\u306f\u6307\u5b9a\u3057\u306a\u304f\u3066\u3044\u3044\u3002"
     ]
    },
    {
     "cell_type": "code",
     "collapsed": false,
     "input": [
      "a = 'Hello World'     # str\n",
      "b = 1                 # int\n",
      "c = 1.0               # float\n",
      "d = [1, 2, 3]         # list\n",
      "e = (1, 2, 3)         # tuple\n",
      "f = {'a': 1, 'b': 2,} # dict\n",
      "g = True              # bool"
     ],
     "language": "python",
     "metadata": {
      "slideshow": {
       "slide_type": "subslide"
      }
     },
     "outputs": [],
     "prompt_number": 2
    },
    {
     "cell_type": "markdown",
     "metadata": {
      "slideshow": {
       "slide_type": "fragment"
      }
     },
     "source": [
      "\u64cd\u4f5c\u306b\u95a2\u3057\u3066\u306f\u5fc5\u8981\u306b\u5fdc\u3058\u3066Google\u3067\u691c\u7d22\u3057\u305f\u65b9\u304c\u65e9\u3044\u3067\u3059\u3002"
     ]
    },
    {
     "cell_type": "markdown",
     "metadata": {
      "slideshow": {
       "slide_type": "slide"
      }
     },
     "source": [
      "### \u5909\u6570\u306e\u8868\u793a"
     ]
    },
    {
     "cell_type": "code",
     "collapsed": false,
     "input": [
      "a = 'c-bata'\n",
      "print('Hello %s !' % a)"
     ],
     "language": "python",
     "metadata": {
      "slideshow": {
       "slide_type": "fragment"
      }
     },
     "outputs": [
      {
       "output_type": "stream",
       "stream": "stdout",
       "text": [
        "Hello c-bata !\n"
       ]
      }
     ],
     "prompt_number": 9
    },
    {
     "cell_type": "markdown",
     "metadata": {
      "slideshow": {
       "slide_type": "slide"
      }
     },
     "source": [
      "## \u5236\u5fa1\u69cb\u6587"
     ]
    },
    {
     "cell_type": "markdown",
     "metadata": {
      "slideshow": {
       "slide_type": "slide"
      }
     },
     "source": [
      "### \u6761\u4ef6\u5206\u5c90\n",
      "\n",
      "Switch\u6587\u306f\u7121\u3044"
     ]
    },
    {
     "cell_type": "code",
     "collapsed": false,
     "input": [
      "a = -5\n",
      "if a == 0:\n",
      "    print('a\u306f0\u3067\u3059')\n",
      "elif a >= 0:\n",
      "    print('a\u306f\u6b63\u3067\u3059')\n",
      "else:\n",
      "    print('a\u306f\u8ca0\u3067\u3059')"
     ],
     "language": "python",
     "metadata": {
      "slideshow": {
       "slide_type": "fragment"
      }
     },
     "outputs": [
      {
       "output_type": "stream",
       "stream": "stdout",
       "text": [
        "a\u306f\u8ca0\u3067\u3059\n"
       ]
      }
     ],
     "prompt_number": 10
    },
    {
     "cell_type": "markdown",
     "metadata": {
      "slideshow": {
       "slide_type": "slide"
      }
     },
     "source": [
      "### for\u30eb\u30fc\u30d7"
     ]
    },
    {
     "cell_type": "code",
     "collapsed": false,
     "input": [
      "items = ['c-bata', 'c_bata_', 'kare-meshi']\n",
      "for item in items:\n",
      "    print(item)"
     ],
     "language": "python",
     "metadata": {
      "slideshow": {
       "slide_type": "fragment"
      }
     },
     "outputs": [
      {
       "output_type": "stream",
       "stream": "stdout",
       "text": [
        "c-bata\n",
        "c_bata_\n",
        "kare-meshi\n"
       ]
      }
     ],
     "prompt_number": 11
    },
    {
     "cell_type": "code",
     "collapsed": false,
     "input": [
      "for i in range(3):\n",
      "    print(i)"
     ],
     "language": "python",
     "metadata": {
      "slideshow": {
       "slide_type": "fragment"
      }
     },
     "outputs": [
      {
       "output_type": "stream",
       "stream": "stdout",
       "text": [
        "0\n",
        "1\n",
        "2\n"
       ]
      }
     ],
     "prompt_number": 12
    },
    {
     "cell_type": "markdown",
     "metadata": {
      "slideshow": {
       "slide_type": "slide"
      }
     },
     "source": [
      "### while\u30eb\u30fc\u30d7"
     ]
    },
    {
     "cell_type": "code",
     "collapsed": false,
     "input": [
      "i = 0\n",
      "while i < 3:\n",
      "    i += 1\n",
      "    print(i)"
     ],
     "language": "python",
     "metadata": {
      "slideshow": {
       "slide_type": "fragment"
      }
     },
     "outputs": [
      {
       "output_type": "stream",
       "stream": "stdout",
       "text": [
        "1\n",
        "2\n",
        "3\n"
       ]
      }
     ],
     "prompt_number": 13
    },
    {
     "cell_type": "markdown",
     "metadata": {
      "slideshow": {
       "slide_type": "slide"
      }
     },
     "source": [
      "## \u95a2\u6570"
     ]
    },
    {
     "cell_type": "code",
     "collapsed": false,
     "input": [
      "def add(x, y):\n",
      "    return x + y\n",
      "\n",
      "add(2, 3)"
     ],
     "language": "python",
     "metadata": {
      "slideshow": {
       "slide_type": "fragment"
      }
     },
     "outputs": [
      {
       "metadata": {},
       "output_type": "pyout",
       "prompt_number": 14,
       "text": [
        "5"
       ]
      }
     ],
     "prompt_number": 14
    },
    {
     "cell_type": "markdown",
     "metadata": {
      "slideshow": {
       "slide_type": "slide"
      }
     },
     "source": [
      "## import"
     ]
    },
    {
     "cell_type": "code",
     "collapsed": false,
     "input": [
      "import math\n",
      "math.sqrt(2)"
     ],
     "language": "python",
     "metadata": {
      "slideshow": {
       "slide_type": "fragment"
      }
     },
     "outputs": [
      {
       "metadata": {},
       "output_type": "pyout",
       "prompt_number": 15,
       "text": [
        "1.4142135623730951"
       ]
      }
     ],
     "prompt_number": 15
    },
    {
     "cell_type": "code",
     "collapsed": false,
     "input": [
      "from math import pow\n",
      "pow(2, 10)"
     ],
     "language": "python",
     "metadata": {
      "slideshow": {
       "slide_type": "fragment"
      }
     },
     "outputs": [
      {
       "metadata": {},
       "output_type": "pyout",
       "prompt_number": 16,
       "text": [
        "1024.0"
       ]
      }
     ],
     "prompt_number": 16
    },
    {
     "cell_type": "code",
     "collapsed": false,
     "input": [
      "from math import pi as ensyuritsu\n",
      "ensyuritsu"
     ],
     "language": "python",
     "metadata": {
      "slideshow": {
       "slide_type": "fragment"
      }
     },
     "outputs": [
      {
       "metadata": {},
       "output_type": "pyout",
       "prompt_number": 17,
       "text": [
        "3.141592653589793"
       ]
      }
     ],
     "prompt_number": 17
    },
    {
     "cell_type": "markdown",
     "metadata": {
      "slideshow": {
       "slide_type": "fragment"
      }
     },
     "source": [
      "\u81ea\u5206\u3067\u4f5c\u3063\u305f\u30e2\u30b8\u30e5\u30fc\u30eb\u3082import\u3067\u304d\u307e\u3059\u3002\u540d\u524d\u306e\u885d\u7a81\u306b\u306f\u6ce8\u610f\u3002"
     ]
    },
    {
     "cell_type": "markdown",
     "metadata": {
      "slideshow": {
       "slide_type": "slide"
      }
     },
     "source": [
      "## \u30af\u30e9\u30b9\n",
      "\n",
      "\u30aa\u30d6\u30b8\u30a7\u30af\u30c8\u6307\u5411\u3068\u304b\u7fd2\u3063\u3066\u306a\u3044\u4eba\u306f\u307e\u3060\u5206\u304b\u3089\u306a\u304f\u3066\u3082\u5927\u4e08\u592b\u3067\u3059\u3002\u4e00\u5fdc\u7d39\u4ecb\u3002"
     ]
    },
    {
     "cell_type": "code",
     "collapsed": false,
     "input": [
      "class Point(object):\n",
      "    def __init__(self, x, y):\n",
      "        self.x, self.y = x, y\n",
      "        self.name = None\n",
      "\n",
      "    def get_euclidean_distance(self):\n",
      "        return math.sqrt(self.x**2 + self.y**2)"
     ],
     "language": "python",
     "metadata": {
      "slideshow": {
       "slide_type": "fragment"
      }
     },
     "outputs": [],
     "prompt_number": 18
    },
    {
     "cell_type": "code",
     "collapsed": false,
     "input": [
      "point = Point(3, 4)\n",
      "point.get_euclidean_distance()"
     ],
     "language": "python",
     "metadata": {
      "slideshow": {
       "slide_type": "fragment"
      }
     },
     "outputs": [
      {
       "metadata": {},
       "output_type": "pyout",
       "prompt_number": 19,
       "text": [
        "5.0"
       ]
      }
     ],
     "prompt_number": 19
    },
    {
     "cell_type": "markdown",
     "metadata": {
      "slideshow": {
       "slide_type": "fragment"
      }
     },
     "source": [
      "$\\sqrt{(3^2 + 4^2)} = 5$ "
     ]
    },
    {
     "cell_type": "markdown",
     "metadata": {
      "slideshow": {
       "slide_type": "slide"
      }
     },
     "source": [
      "## \u305d\u306e\u4ed6"
     ]
    },
    {
     "cell_type": "markdown",
     "metadata": {
      "slideshow": {
       "slide_type": "slide"
      }
     },
     "source": [
      "### \u6a19\u6e96\u5165\u529b"
     ]
    },
    {
     "cell_type": "code",
     "collapsed": false,
     "input": [
      "print(input())"
     ],
     "language": "python",
     "metadata": {
      "slideshow": {
       "slide_type": "fragment"
      }
     },
     "outputs": [
      {
       "name": "stdout",
       "output_type": "stream",
       "stream": "stdout",
       "text": [
        "hello\n"
       ]
      },
      {
       "output_type": "stream",
       "stream": "stdout",
       "text": [
        "hello\n"
       ]
      }
     ],
     "prompt_number": 20
    },
    {
     "cell_type": "markdown",
     "metadata": {
      "slideshow": {
       "slide_type": "slide"
      }
     },
     "source": [
      "### \u30b3\u30e1\u30f3\u30c8"
     ]
    },
    {
     "cell_type": "code",
     "collapsed": false,
     "input": [
      "# 1\u884c\u30b3\u30e1\u30f3\u30c8"
     ],
     "language": "python",
     "metadata": {
      "slideshow": {
       "slide_type": "fragment"
      }
     },
     "outputs": [],
     "prompt_number": 21
    },
    {
     "cell_type": "code",
     "collapsed": false,
     "input": [
      "\"\"\"\u8907\u6570\u884c\u30b3\u30e1\u30f3\u30c8\n",
      "\u30c0\u30d6\u30eb\u30af\u30aa\u30fc\u30c6\u30fc\u30b7\u30e7\u30f33\u3064\u3067\u56f2\u3063\u3066\u304f\u3060\u3055\u3044\u3002\n",
      "\u3053\u308c\u306f\u30d6\u30ed\u30c3\u30af\u6587\u5b57\u5217\u3067\u3059\u304c\u3001\u8907\u6570\u884c\u30b3\u30e1\u30f3\u30c8\u306e\u3088\u3046\u306b\u6271\u308f\u308c\u307e\u3059\u3002\n",
      "\"\"\""
     ],
     "language": "python",
     "metadata": {
      "slideshow": {
       "slide_type": "fragment"
      }
     },
     "outputs": [
      {
       "metadata": {},
       "output_type": "pyout",
       "prompt_number": 22,
       "text": [
        "'\u8907\u6570\u884c\u30b3\u30e1\u30f3\u30c8\\n\u30c0\u30d6\u30eb\u30af\u30aa\u30fc\u30c6\u30fc\u30b7\u30e7\u30f33\u3064\u3067\u56f2\u3063\u3066\u304f\u3060\u3055\u3044\u3002\\n\u3053\u308c\u306f\u30d6\u30ed\u30c3\u30af\u6587\u5b57\u5217\u3067\u3059\u304c\u3001\u8907\u6570\u884c\u30b3\u30e1\u30f3\u30c8\u306e\u3088\u3046\u306b\u6271\u308f\u308c\u307e\u3059\u3002\\n'"
       ]
      }
     ],
     "prompt_number": 22
    }
   ],
   "metadata": {}
  }
 ]
}